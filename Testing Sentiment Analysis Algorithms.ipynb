{
 "cells": [
  {
   "cell_type": "code",
   "execution_count": 1,
   "metadata": {},
   "outputs": [],
   "source": [
    "import pandas as pd\n",
    "import numpy as np\n",
    "import seaborn as sns\n",
    "import matplotlib.pyplot as plt\n",
    "%matplotlib inline\n",
    "import warnings\n",
    "warnings.filterwarnings('ignore')\n",
    "from sklearn.model_selection import train_test_split\n",
    "import torch\n",
    "from torch.utils.data import Dataset\n",
    "from transformers import DistilBertTokenizerFast, DistilBertForSequenceClassification\n",
    "from transformers import Trainer, TrainingArguments\n",
    "from sklearn.metrics import accuracy_score, f1_score\n",
    "import sklearn\n",
    "from simpletransformers.classification import ClassificationModel, ClassificationArgs\n",
    "import re\n",
    "from nltk.corpus import wordnet\n",
    "from nltk import sent_tokenize, word_tokenize, pos_tag\n",
    "from nltk.corpus import stopwords\n",
    "from nltk.stem import WordNetLemmatizer\n",
    "from nltk.corpus import sentiwordnet as swn\n",
    "from nltk.sentiment.vader import SentimentIntensityAnalyzer\n",
    "\n",
    "from sklearn.metrics import precision_score\n",
    "from sklearn.metrics import recall_score\n",
    "from sklearn.metrics import precision_recall_fscore_support\n",
    "from sklearn.metrics import confusion_matrix\n",
    "\n",
    "\n"
   ]
  },
  {
   "cell_type": "markdown",
   "metadata": {},
   "source": [
    "# Pre-processing"
   ]
  },
  {
   "cell_type": "code",
   "execution_count": 2,
   "metadata": {},
   "outputs": [],
   "source": [
    "df = pd.read_excel('/Users/marnixtimmermans/Desktop/Sample_label_good.xlsx')"
   ]
  },
  {
   "cell_type": "code",
   "execution_count": 3,
   "metadata": {},
   "outputs": [],
   "source": [
    "#Format DF for sentiment analysis using transformers\n",
    "df = pd.read_excel('/Users/marnixtimmermans/Desktop/Sample_label_good.xlsx')\n",
    "df = df.reset_index()\n",
    "df = df[1:]\n",
    "df = df.rename(columns={'Unnamed: 1': \"text\",'Unnamed: 2':\"label\" })"
   ]
  },
  {
   "cell_type": "code",
   "execution_count": 5,
   "metadata": {},
   "outputs": [
    {
     "data": {
      "text/plain": [
       "([<matplotlib.patches.Wedge at 0x7ff6e895b370>,\n",
       "  <matplotlib.patches.Wedge at 0x7ff6e895bb20>,\n",
       "  <matplotlib.patches.Wedge at 0x7ff6e8966280>],\n",
       " [Text(0.05664092416031022, 1.198662507009486, '0.0'),\n",
       "  Text(-0.7023396070602691, -0.8465926271557218, '1.0'),\n",
       "  Text(0.8788000353886781, -0.6615969300116636, '2.0')],\n",
       " [Text(0.03304053909351429, 0.6992197957555335, '48.5%'),\n",
       "  Text(-0.3830943311237831, -0.46177779663039364, '31.0%'),\n",
       "  Text(0.47934547384836984, -0.3608710527336347, '20.5%')])"
      ]
     },
     "execution_count": 5,
     "metadata": {},
     "output_type": "execute_result"
    },
    {
     "data": {
      "image/png": "[encoded data removed]",
      "text/plain": [
       "<Figure size 720x504 with 1 Axes>"
      ]
     },
     "metadata": {},
     "output_type": "display_data"
    }
   ],
   "source": [
    "label_distribution = df['label'].value_counts()\n",
    "plt.figure(figsize =(10, 7))\n",
    "plt.pie(label_distribution.values, labels = label_distribution.index, explode = (0.1, 0, 0), autopct='%1.1f%%', shadow=False)"
   ]
  },
  {
   "cell_type": "code",
   "execution_count": 15,
   "metadata": {},
   "outputs": [
    {
     "data": {
      "text/html": [
       "<div>\n",
       "<style scoped>\n",
       "    .dataframe tbody tr th:only-of-type {\n",
       "        vertical-align: middle;\n",
       "    }\n",
       "\n",
       "    .dataframe tbody tr th {\n",
       "        vertical-align: top;\n",
       "    }\n",
       "\n",
       "    .dataframe thead th {\n",
       "        text-align: right;\n",
       "    }\n",
       "</style>\n",
       "<table border=\"1\" class=\"dataframe\">\n",
       "  <thead>\n",
       "    <tr style=\"text-align: right;\">\n",
       "      <th></th>\n",
       "      <th>index</th>\n",
       "      <th>Sample_label</th>\n",
       "      <th>text</th>\n",
       "      <th>label</th>\n",
       "      <th>cleaned_text</th>\n",
       "    </tr>\n",
       "  </thead>\n",
       "  <tbody>\n",
       "    <tr>\n",
       "      <th>1</th>\n",
       "      <td>1</td>\n",
       "      <td>449</td>\n",
       "      <td>Neymar one of three PSG stars to test positive...</td>\n",
       "      <td>0.0</td>\n",
       "      <td>Neymar one of three PSG stars to test positive...</td>\n",
       "    </tr>\n",
       "    <tr>\n",
       "      <th>2</th>\n",
       "      <td>2</td>\n",
       "      <td>552</td>\n",
       "      <td>[ANNIVERSARY SPECIAL] News industry urged to a...</td>\n",
       "      <td>1.0</td>\n",
       "      <td>ANNIVERSARY SPECIAL  News industry urged to a...</td>\n",
       "    </tr>\n",
       "    <tr>\n",
       "      <th>3</th>\n",
       "      <td>3</td>\n",
       "      <td>201</td>\n",
       "      <td>Moon govt. performs best in health, welfare se...</td>\n",
       "      <td>2.0</td>\n",
       "      <td>Moon govt  performs best in health  welfare se...</td>\n",
       "    </tr>\n",
       "    <tr>\n",
       "      <th>4</th>\n",
       "      <td>4</td>\n",
       "      <td>234</td>\n",
       "      <td>Seoul stocks extend winning streak to 5th session</td>\n",
       "      <td>2.0</td>\n",
       "      <td>Seoul stocks extend winning streak to  th session</td>\n",
       "    </tr>\n",
       "    <tr>\n",
       "      <th>5</th>\n",
       "      <td>5</td>\n",
       "      <td>602</td>\n",
       "      <td>S. Korea, China agree to seek joint measures i...</td>\n",
       "      <td>2.0</td>\n",
       "      <td>S  Korea  China agree to seek joint measures i...</td>\n",
       "    </tr>\n",
       "  </tbody>\n",
       "</table>\n",
       "</div>"
      ],
      "text/plain": [
       "   index Sample_label                                               text  \\\n",
       "1      1          449  Neymar one of three PSG stars to test positive...   \n",
       "2      2          552  [ANNIVERSARY SPECIAL] News industry urged to a...   \n",
       "3      3          201  Moon govt. performs best in health, welfare se...   \n",
       "4      4          234  Seoul stocks extend winning streak to 5th session   \n",
       "5      5          602  S. Korea, China agree to seek joint measures i...   \n",
       "\n",
       "   label                                       cleaned_text  \n",
       "1    0.0  Neymar one of three PSG stars to test positive...  \n",
       "2    1.0   ANNIVERSARY SPECIAL  News industry urged to a...  \n",
       "3    2.0  Moon govt  performs best in health  welfare se...  \n",
       "4    2.0  Seoul stocks extend winning streak to  th session  \n",
       "5    2.0  S  Korea  China agree to seek joint measures i...  "
      ]
     },
     "execution_count": 15,
     "metadata": {},
     "output_type": "execute_result"
    }
   ],
   "source": [
    "#Clean Text\n",
    "def clean(text):\n",
    "# Removes all special characters and numericals leaving the alphabets\n",
    "    text = re.sub('[^ A-Za-z]+', ' ', text)\n",
    "    return text\n",
    "\n",
    "# Cleaning the text in the review column\n",
    "df['cleaned_text'] = df['text'].apply(clean)\n",
    "df.head()"
   ]
  },
  {
   "cell_type": "code",
   "execution_count": 16,
   "metadata": {},
   "outputs": [
    {
     "data": {
      "text/html": [
       "<div>\n",
       "<style scoped>\n",
       "    .dataframe tbody tr th:only-of-type {\n",
       "        vertical-align: middle;\n",
       "    }\n",
       "\n",
       "    .dataframe tbody tr th {\n",
       "        vertical-align: top;\n",
       "    }\n",
       "\n",
       "    .dataframe thead th {\n",
       "        text-align: right;\n",
       "    }\n",
       "</style>\n",
       "<table border=\"1\" class=\"dataframe\">\n",
       "  <thead>\n",
       "    <tr style=\"text-align: right;\">\n",
       "      <th></th>\n",
       "      <th>index</th>\n",
       "      <th>Sample_label</th>\n",
       "      <th>text</th>\n",
       "      <th>label</th>\n",
       "      <th>cleaned_text</th>\n",
       "      <th>POS tagged</th>\n",
       "    </tr>\n",
       "  </thead>\n",
       "  <tbody>\n",
       "    <tr>\n",
       "      <th>1</th>\n",
       "      <td>1</td>\n",
       "      <td>449</td>\n",
       "      <td>Neymar one of three PSG stars to test positive...</td>\n",
       "      <td>0.0</td>\n",
       "      <td>Neymar one of three PSG stars to test positive...</td>\n",
       "      <td>[(Neymar, n), (one, None), (three, None), (PSG...</td>\n",
       "    </tr>\n",
       "    <tr>\n",
       "      <th>2</th>\n",
       "      <td>2</td>\n",
       "      <td>552</td>\n",
       "      <td>[ANNIVERSARY SPECIAL] News industry urged to a...</td>\n",
       "      <td>1.0</td>\n",
       "      <td>ANNIVERSARY SPECIAL  News industry urged to a...</td>\n",
       "      <td>[(ANNIVERSARY, n), (SPECIAL, n), (News, n), (i...</td>\n",
       "    </tr>\n",
       "    <tr>\n",
       "      <th>3</th>\n",
       "      <td>3</td>\n",
       "      <td>201</td>\n",
       "      <td>Moon govt. performs best in health, welfare se...</td>\n",
       "      <td>2.0</td>\n",
       "      <td>Moon govt  performs best in health  welfare se...</td>\n",
       "      <td>[(Moon, n), (govt, n), (performs, n), (best, r...</td>\n",
       "    </tr>\n",
       "    <tr>\n",
       "      <th>4</th>\n",
       "      <td>4</td>\n",
       "      <td>234</td>\n",
       "      <td>Seoul stocks extend winning streak to 5th session</td>\n",
       "      <td>2.0</td>\n",
       "      <td>Seoul stocks extend winning streak to  th session</td>\n",
       "      <td>[(Seoul, a), (stocks, n), (extend, v), (winnin...</td>\n",
       "    </tr>\n",
       "    <tr>\n",
       "      <th>5</th>\n",
       "      <td>5</td>\n",
       "      <td>602</td>\n",
       "      <td>S. Korea, China agree to seek joint measures i...</td>\n",
       "      <td>2.0</td>\n",
       "      <td>S  Korea  China agree to seek joint measures i...</td>\n",
       "      <td>[(Korea, n), (China, n), (agree, v), (seek, v)...</td>\n",
       "    </tr>\n",
       "  </tbody>\n",
       "</table>\n",
       "</div>"
      ],
      "text/plain": [
       "   index Sample_label                                               text  \\\n",
       "1      1          449  Neymar one of three PSG stars to test positive...   \n",
       "2      2          552  [ANNIVERSARY SPECIAL] News industry urged to a...   \n",
       "3      3          201  Moon govt. performs best in health, welfare se...   \n",
       "4      4          234  Seoul stocks extend winning streak to 5th session   \n",
       "5      5          602  S. Korea, China agree to seek joint measures i...   \n",
       "\n",
       "   label                                       cleaned_text  \\\n",
       "1    0.0  Neymar one of three PSG stars to test positive...   \n",
       "2    1.0   ANNIVERSARY SPECIAL  News industry urged to a...   \n",
       "3    2.0  Moon govt  performs best in health  welfare se...   \n",
       "4    2.0  Seoul stocks extend winning streak to  th session   \n",
       "5    2.0  S  Korea  China agree to seek joint measures i...   \n",
       "\n",
       "                                          POS tagged  \n",
       "1  [(Neymar, n), (one, None), (three, None), (PSG...  \n",
       "2  [(ANNIVERSARY, n), (SPECIAL, n), (News, n), (i...  \n",
       "3  [(Moon, n), (govt, n), (performs, n), (best, r...  \n",
       "4  [(Seoul, a), (stocks, n), (extend, v), (winnin...  \n",
       "5  [(Korea, n), (China, n), (agree, v), (seek, v)...  "
      ]
     },
     "execution_count": 16,
     "metadata": {},
     "output_type": "execute_result"
    }
   ],
   "source": [
    "# POS tagger dictionary\n",
    "pos_dict = {'J':wordnet.ADJ, 'V':wordnet.VERB, 'N':wordnet.NOUN, 'R':wordnet.ADV}\n",
    "def token_stop_pos(text):\n",
    "    tags = pos_tag(word_tokenize(text))\n",
    "    newlist = []\n",
    "    for word, tag in tags:\n",
    "        if word.lower() not in set(stopwords.words('english')):\n",
    "            newlist.append(tuple([word, pos_dict.get(tag[0])]))\n",
    "    return newlist\n",
    "\n",
    "df['POS tagged'] = df['cleaned_text'].apply(token_stop_pos)\n",
    "df.head()"
   ]
  },
  {
   "cell_type": "code",
   "execution_count": 17,
   "metadata": {},
   "outputs": [
    {
     "data": {
      "text/html": [
       "<div>\n",
       "<style scoped>\n",
       "    .dataframe tbody tr th:only-of-type {\n",
       "        vertical-align: middle;\n",
       "    }\n",
       "\n",
       "    .dataframe tbody tr th {\n",
       "        vertical-align: top;\n",
       "    }\n",
       "\n",
       "    .dataframe thead th {\n",
       "        text-align: right;\n",
       "    }\n",
       "</style>\n",
       "<table border=\"1\" class=\"dataframe\">\n",
       "  <thead>\n",
       "    <tr style=\"text-align: right;\">\n",
       "      <th></th>\n",
       "      <th>index</th>\n",
       "      <th>Sample_label</th>\n",
       "      <th>text</th>\n",
       "      <th>label</th>\n",
       "      <th>cleaned_text</th>\n",
       "      <th>POS tagged</th>\n",
       "    </tr>\n",
       "  </thead>\n",
       "  <tbody>\n",
       "    <tr>\n",
       "      <th>1</th>\n",
       "      <td>1</td>\n",
       "      <td>449</td>\n",
       "      <td>Neymar one three PSG star test positive COVID</td>\n",
       "      <td>0.0</td>\n",
       "      <td>Neymar one of three PSG stars to test positive...</td>\n",
       "      <td>[(Neymar, n), (one, None), (three, None), (PSG...</td>\n",
       "    </tr>\n",
       "    <tr>\n",
       "      <th>2</th>\n",
       "      <td>2</td>\n",
       "      <td>552</td>\n",
       "      <td>ANNIVERSARY SPECIAL News industry urge adopt...</td>\n",
       "      <td>1.0</td>\n",
       "      <td>ANNIVERSARY SPECIAL  News industry urged to a...</td>\n",
       "      <td>[(ANNIVERSARY, n), (SPECIAL, n), (News, n), (i...</td>\n",
       "    </tr>\n",
       "    <tr>\n",
       "      <th>3</th>\n",
       "      <td>3</td>\n",
       "      <td>201</td>\n",
       "      <td>Moon govt performs best health welfare secto...</td>\n",
       "      <td>2.0</td>\n",
       "      <td>Moon govt  performs best in health  welfare se...</td>\n",
       "      <td>[(Moon, n), (govt, n), (performs, n), (best, r...</td>\n",
       "    </tr>\n",
       "    <tr>\n",
       "      <th>4</th>\n",
       "      <td>4</td>\n",
       "      <td>234</td>\n",
       "      <td>Seoul stock extend win streak th session</td>\n",
       "      <td>2.0</td>\n",
       "      <td>Seoul stocks extend winning streak to  th session</td>\n",
       "      <td>[(Seoul, a), (stocks, n), (extend, v), (winnin...</td>\n",
       "    </tr>\n",
       "    <tr>\n",
       "      <th>5</th>\n",
       "      <td>5</td>\n",
       "      <td>602</td>\n",
       "      <td>Korea China agree seek joint measure reduce ...</td>\n",
       "      <td>2.0</td>\n",
       "      <td>S  Korea  China agree to seek joint measures i...</td>\n",
       "      <td>[(Korea, n), (China, n), (agree, v), (seek, v)...</td>\n",
       "    </tr>\n",
       "  </tbody>\n",
       "</table>\n",
       "</div>"
      ],
      "text/plain": [
       "   index Sample_label                                               text  \\\n",
       "1      1          449      Neymar one three PSG star test positive COVID   \n",
       "2      2          552    ANNIVERSARY SPECIAL News industry urge adopt...   \n",
       "3      3          201    Moon govt performs best health welfare secto...   \n",
       "4      4          234           Seoul stock extend win streak th session   \n",
       "5      5          602    Korea China agree seek joint measure reduce ...   \n",
       "\n",
       "   label                                       cleaned_text  \\\n",
       "1    0.0  Neymar one of three PSG stars to test positive...   \n",
       "2    1.0   ANNIVERSARY SPECIAL  News industry urged to a...   \n",
       "3    2.0  Moon govt  performs best in health  welfare se...   \n",
       "4    2.0  Seoul stocks extend winning streak to  th session   \n",
       "5    2.0  S  Korea  China agree to seek joint measures i...   \n",
       "\n",
       "                                          POS tagged  \n",
       "1  [(Neymar, n), (one, None), (three, None), (PSG...  \n",
       "2  [(ANNIVERSARY, n), (SPECIAL, n), (News, n), (i...  \n",
       "3  [(Moon, n), (govt, n), (performs, n), (best, r...  \n",
       "4  [(Seoul, a), (stocks, n), (extend, v), (winnin...  \n",
       "5  [(Korea, n), (China, n), (agree, v), (seek, v)...  "
      ]
     },
     "execution_count": 17,
     "metadata": {},
     "output_type": "execute_result"
    }
   ],
   "source": [
    "#Lemmatization\n",
    "wordnet_lemmatizer = WordNetLemmatizer()\n",
    "def lemmatize(pos_data):\n",
    "    lemma_rew = \" \"\n",
    "    for word, pos in pos_data:\n",
    "        if not pos:\n",
    "            lemma = word\n",
    "            lemma_rew = lemma_rew + \" \" + lemma\n",
    "        else:\n",
    "            lemma = wordnet_lemmatizer.lemmatize(word, pos = pos)\n",
    "            lemma_rew = lemma_rew + \" \" + lemma\n",
    "    return lemma_rew\n",
    "\n",
    "df['text'] = df['POS tagged'].apply(lemmatize)\n",
    "df.head()"
   ]
  },
  {
   "cell_type": "code",
   "execution_count": 18,
   "metadata": {},
   "outputs": [],
   "source": [
    "#Create dataframes for each algorithm\n",
    "df_textblob = df \n",
    "df_vader = df\n",
    "df_sentiwordnet = df"
   ]
  },
  {
   "cell_type": "code",
   "execution_count": 19,
   "metadata": {},
   "outputs": [
    {
     "data": {
      "text/html": [
       "<div>\n",
       "<style scoped>\n",
       "    .dataframe tbody tr th:only-of-type {\n",
       "        vertical-align: middle;\n",
       "    }\n",
       "\n",
       "    .dataframe tbody tr th {\n",
       "        vertical-align: top;\n",
       "    }\n",
       "\n",
       "    .dataframe thead th {\n",
       "        text-align: right;\n",
       "    }\n",
       "</style>\n",
       "<table border=\"1\" class=\"dataframe\">\n",
       "  <thead>\n",
       "    <tr style=\"text-align: right;\">\n",
       "      <th></th>\n",
       "      <th>index</th>\n",
       "      <th>Sample_label</th>\n",
       "      <th>text</th>\n",
       "      <th>label</th>\n",
       "      <th>cleaned_text</th>\n",
       "      <th>POS tagged</th>\n",
       "    </tr>\n",
       "  </thead>\n",
       "  <tbody>\n",
       "    <tr>\n",
       "      <th>1</th>\n",
       "      <td>1</td>\n",
       "      <td>449</td>\n",
       "      <td>Neymar one three PSG star test positive COVID</td>\n",
       "      <td>0.0</td>\n",
       "      <td>Neymar one of three PSG stars to test positive...</td>\n",
       "      <td>[(Neymar, n), (one, None), (three, None), (PSG...</td>\n",
       "    </tr>\n",
       "    <tr>\n",
       "      <th>2</th>\n",
       "      <td>2</td>\n",
       "      <td>552</td>\n",
       "      <td>ANNIVERSARY SPECIAL News industry urge adopt...</td>\n",
       "      <td>1.0</td>\n",
       "      <td>ANNIVERSARY SPECIAL  News industry urged to a...</td>\n",
       "      <td>[(ANNIVERSARY, n), (SPECIAL, n), (News, n), (i...</td>\n",
       "    </tr>\n",
       "    <tr>\n",
       "      <th>3</th>\n",
       "      <td>3</td>\n",
       "      <td>201</td>\n",
       "      <td>Moon govt performs best health welfare secto...</td>\n",
       "      <td>2.0</td>\n",
       "      <td>Moon govt  performs best in health  welfare se...</td>\n",
       "      <td>[(Moon, n), (govt, n), (performs, n), (best, r...</td>\n",
       "    </tr>\n",
       "    <tr>\n",
       "      <th>4</th>\n",
       "      <td>4</td>\n",
       "      <td>234</td>\n",
       "      <td>Seoul stock extend win streak th session</td>\n",
       "      <td>2.0</td>\n",
       "      <td>Seoul stocks extend winning streak to  th session</td>\n",
       "      <td>[(Seoul, a), (stocks, n), (extend, v), (winnin...</td>\n",
       "    </tr>\n",
       "    <tr>\n",
       "      <th>5</th>\n",
       "      <td>5</td>\n",
       "      <td>602</td>\n",
       "      <td>Korea China agree seek joint measure reduce ...</td>\n",
       "      <td>2.0</td>\n",
       "      <td>S  Korea  China agree to seek joint measures i...</td>\n",
       "      <td>[(Korea, n), (China, n), (agree, v), (seek, v)...</td>\n",
       "    </tr>\n",
       "    <tr>\n",
       "      <th>...</th>\n",
       "      <td>...</td>\n",
       "      <td>...</td>\n",
       "      <td>...</td>\n",
       "      <td>...</td>\n",
       "      <td>...</td>\n",
       "      <td>...</td>\n",
       "    </tr>\n",
       "    <tr>\n",
       "      <th>996</th>\n",
       "      <td>996</td>\n",
       "      <td>514</td>\n",
       "      <td>U N appeal billion fight coronavirus poor co...</td>\n",
       "      <td>2.0</td>\n",
       "      <td>U N  appeals for   billion to fight coronaviru...</td>\n",
       "      <td>[(U, n), (N, n), (appeals, n), (billion, None)...</td>\n",
       "    </tr>\n",
       "    <tr>\n",
       "      <th>997</th>\n",
       "      <td>997</td>\n",
       "      <td>878</td>\n",
       "      <td>World poverty rate mark st rise yr due virus UN</td>\n",
       "      <td>0.0</td>\n",
       "      <td>World poverty rate to mark  st rise in   yrs d...</td>\n",
       "      <td>[(World, n), (poverty, n), (rate, n), (mark, v...</td>\n",
       "    </tr>\n",
       "    <tr>\n",
       "      <th>998</th>\n",
       "      <td>998</td>\n",
       "      <td>889</td>\n",
       "      <td>Funky amphibian exhibition wow educate visit...</td>\n",
       "      <td>1.0</td>\n",
       "      <td>Funky amphibian exhibition wows  educates visi...</td>\n",
       "      <td>[(Funky, n), (amphibian, a), (exhibition, n), ...</td>\n",
       "    </tr>\n",
       "    <tr>\n",
       "      <th>999</th>\n",
       "      <td>999</td>\n",
       "      <td>1297</td>\n",
       "      <td>Japan PM Suga vow secure vaccine hope rise b...</td>\n",
       "      <td>2.0</td>\n",
       "      <td>Japan PM Suga vows to secure vaccines as hopes...</td>\n",
       "      <td>[(Japan, n), (PM, n), (Suga, n), (vows, v), (s...</td>\n",
       "    </tr>\n",
       "    <tr>\n",
       "      <th>1000</th>\n",
       "      <td>1000</td>\n",
       "      <td>414</td>\n",
       "      <td>test positive coronavirus Tokyo high single day</td>\n",
       "      <td>0.0</td>\n",
       "      <td>test positive for coronavirus in Tokyo  high...</td>\n",
       "      <td>[(test, n), (positive, a), (coronavirus, n), (...</td>\n",
       "    </tr>\n",
       "  </tbody>\n",
       "</table>\n",
       "<p>1000 rows × 6 columns</p>\n",
       "</div>"
      ],
      "text/plain": [
       "      index Sample_label                                               text  \\\n",
       "1         1          449      Neymar one three PSG star test positive COVID   \n",
       "2         2          552    ANNIVERSARY SPECIAL News industry urge adopt...   \n",
       "3         3          201    Moon govt performs best health welfare secto...   \n",
       "4         4          234           Seoul stock extend win streak th session   \n",
       "5         5          602    Korea China agree seek joint measure reduce ...   \n",
       "...     ...          ...                                                ...   \n",
       "996     996          514    U N appeal billion fight coronavirus poor co...   \n",
       "997     997          878    World poverty rate mark st rise yr due virus UN   \n",
       "998     998          889    Funky amphibian exhibition wow educate visit...   \n",
       "999     999         1297    Japan PM Suga vow secure vaccine hope rise b...   \n",
       "1000   1000          414    test positive coronavirus Tokyo high single day   \n",
       "\n",
       "      label                                       cleaned_text  \\\n",
       "1       0.0  Neymar one of three PSG stars to test positive...   \n",
       "2       1.0   ANNIVERSARY SPECIAL  News industry urged to a...   \n",
       "3       2.0  Moon govt  performs best in health  welfare se...   \n",
       "4       2.0  Seoul stocks extend winning streak to  th session   \n",
       "5       2.0  S  Korea  China agree to seek joint measures i...   \n",
       "...     ...                                                ...   \n",
       "996     2.0  U N  appeals for   billion to fight coronaviru...   \n",
       "997     0.0  World poverty rate to mark  st rise in   yrs d...   \n",
       "998     1.0  Funky amphibian exhibition wows  educates visi...   \n",
       "999     2.0  Japan PM Suga vows to secure vaccines as hopes...   \n",
       "1000    0.0    test positive for coronavirus in Tokyo  high...   \n",
       "\n",
       "                                             POS tagged  \n",
       "1     [(Neymar, n), (one, None), (three, None), (PSG...  \n",
       "2     [(ANNIVERSARY, n), (SPECIAL, n), (News, n), (i...  \n",
       "3     [(Moon, n), (govt, n), (performs, n), (best, r...  \n",
       "4     [(Seoul, a), (stocks, n), (extend, v), (winnin...  \n",
       "5     [(Korea, n), (China, n), (agree, v), (seek, v)...  \n",
       "...                                                 ...  \n",
       "996   [(U, n), (N, n), (appeals, n), (billion, None)...  \n",
       "997   [(World, n), (poverty, n), (rate, n), (mark, v...  \n",
       "998   [(Funky, n), (amphibian, a), (exhibition, n), ...  \n",
       "999   [(Japan, n), (PM, n), (Suga, n), (vows, v), (s...  \n",
       "1000  [(test, n), (positive, a), (coronavirus, n), (...  \n",
       "\n",
       "[1000 rows x 6 columns]"
      ]
     },
     "execution_count": 19,
     "metadata": {},
     "output_type": "execute_result"
    }
   ],
   "source": [
    "df_sentiwordnet"
   ]
  },
  {
   "cell_type": "markdown",
   "metadata": {},
   "source": [
    "# DistilBert"
   ]
  },
  {
   "cell_type": "code",
   "execution_count": 20,
   "metadata": {},
   "outputs": [
    {
     "name": "stderr",
     "output_type": "stream",
     "text": [
      "No model was supplied, defaulted to distilbert-base-uncased-finetuned-sst-2-english (https://huggingface.co/distilbert-base-uncased-finetuned-sst-2-english)\n"
     ]
    }
   ],
   "source": [
    "#Apply Distilbert model\n",
    "from transformers import pipeline\n",
    "\n",
    "sentiment_analysis = pipeline(\"sentiment-analysis\")\n",
    "\n",
    "results = []\n",
    "\n",
    "for i in range(len(df)):\n",
    "    result = sentiment_analysis(df['text'].iloc[i])[0]\n",
    "    results.append(result['label'])\n",
    "#     print(result)\n",
    "df['results'] = results\n",
    "df = df.dropna()\n",
    "df = df[df.label != 1]\n",
    "df.label = df.label.map({0: 0, 2: 1}).astype(int)\n",
    "df.results = df.results.replace({'NEGATIVE': 0, 'POSITIVE': 1})\n",
    "\n",
    "\n",
    "#Calculate accuracy score\n",
    "# print('accuracy score:', accuracy_score(df.label, df.results))\n",
    "# print('f1 score:', f1_score(df.label, df.results))\n",
    "# print('precision score:', precision_score(df.label, df.results, average='binary'))\n",
    "# print('precision score:', precision_score(df.label, df.results))\n",
    "# print('recall score:', recall_score(df.label, df.results, average='micro'))\n",
    "# print('recall score:', recall_score(df.label, df.results))\n",
    "# print('precision, recall, f1 score:', precision_recall_fscore_support(df.label, df.results, average='micro'))\n",
    "# print(confusion_matrix(df.label, df.results))"
   ]
  },
  {
   "cell_type": "code",
   "execution_count": 21,
   "metadata": {},
   "outputs": [
    {
     "name": "stdout",
     "output_type": "stream",
     "text": [
      "accuracy score: 0.8113207547169812\n",
      "precision, recall, f1 score: (0.8051296364682543, 0.8113207547169812, 0.8056226310578491, None)\n",
      "[[437  47]\n",
      " [ 83 122]]\n"
     ]
    }
   ],
   "source": [
    "#Calculate accuracy score\n",
    "print('accuracy score:', accuracy_score(df.label, df.results))\n",
    "print('precision, recall, f1 score:', precision_recall_fscore_support(df.label, df.results, average='weighted'))\n",
    "print(confusion_matrix(df.label, df.results))"
   ]
  },
  {
   "cell_type": "code",
   "execution_count": null,
   "metadata": {},
   "outputs": [],
   "source": [
    "df['text'].head(0)"
   ]
  },
  {
   "cell_type": "markdown",
   "metadata": {},
   "source": [
    "# Textblob"
   ]
  },
  {
   "cell_type": "code",
   "execution_count": null,
   "metadata": {},
   "outputs": [],
   "source": [
    "from textblob import TextBlob\n",
    "# function to calculate subjectivity\n",
    "\n",
    "def getPolarity(review):\n",
    "    return TextBlob(review).sentiment.polarity\n",
    "\n",
    "# function to analyze the reviews\n",
    "def analysis(score):\n",
    "    if score < 0:\n",
    "        return 'Negative'\n",
    "    else:\n",
    "        return 'Positive'"
   ]
  },
  {
   "cell_type": "code",
   "execution_count": null,
   "metadata": {},
   "outputs": [],
   "source": [
    "df_textblob = df_textblob.dropna()\n",
    "df_textblob['TextBlob Polarity'] = df_textblob['text'].apply(getPolarity) \n",
    "df_textblob['results'] = df_textblob['TextBlob Polarity'].apply(analysis)\n",
    "df_textblob = df_textblob[df_textblob.label != 1]\n",
    "df_textblob.label = df_textblob.label.map({0: 0, 2: 1})\n",
    "df_textblob.results = df_textblob.results.replace({'Negative': 0, 'Positive': 1})"
   ]
  },
  {
   "cell_type": "code",
   "execution_count": null,
   "metadata": {},
   "outputs": [],
   "source": [
    "df_textblob.head(15)"
   ]
  },
  {
   "cell_type": "code",
   "execution_count": null,
   "metadata": {},
   "outputs": [],
   "source": [
    "#Calculate accuracy score\n",
    "print('accuracy score:', accuracy_score(df_textblob.label, df_textblob.results))\n",
    "print('precision, recall, f1 score:', precision_recall_fscore_support(df_textblob.label, df_textblob.results, average='weighted'))\n",
    "print(confusion_matrix(df_textblob.label, df_textblob.results))"
   ]
  },
  {
   "cell_type": "markdown",
   "metadata": {},
   "source": [
    "# SentiwordNet"
   ]
  },
  {
   "cell_type": "code",
   "execution_count": null,
   "metadata": {},
   "outputs": [],
   "source": [
    "def sentiwordnetanalysis(pos_data):\n",
    "    sentiment = 0\n",
    "    tokens_count = 0\n",
    "    for word, pos in pos_data:\n",
    "        if not pos:\n",
    "            continue\n",
    "        lemma = wordnet_lemmatizer.lemmatize(word, pos=pos)\n",
    "        if not lemma:\n",
    "            continue\n",
    "        \n",
    "        synsets = wordnet.synsets(lemma, pos=pos)\n",
    "        if not synsets:\n",
    "            continue\n",
    "\n",
    "        # Take the first sense, the most common\n",
    "        synset = synsets[0]\n",
    "        print(synsets)\n",
    "        print(synset)\n",
    "        swn_synset = swn.senti_synset(synset.name())\n",
    "        print(swn_synset)\n",
    "        sentiment += swn_synset.pos_score() - swn_synset.neg_score()\n",
    "        tokens_count += 1\n",
    "        print(swn_synset.pos_score(),swn_synset.neg_score(),swn_synset.obj_score())\n",
    "        \n",
    "    if not tokens_count:\n",
    "        return 0\n",
    "    if sentiment>0:\n",
    "        return \"Positive\"\n",
    "#         return sentiment\n",
    "    else:\n",
    "#         return sentiment\n",
    "        return \"Negative\"\n",
    "\n",
    "df_sentiwordnet['SWN analysis'] = df_sentiwordnet['POS tagged'].apply(sentiwordnetanalysis)\n",
    "df_sentiwordnet = df_sentiwordnet[df_sentiwordnet['SWN analysis'] != 0]\n",
    "print(df_sentiwordnet['SWN analysis'].value_counts())\n",
    "\n",
    "\n",
    "df_sentiwordnet = df_sentiwordnet.dropna()\n",
    "df_sentiwordnet['results'] = df_sentiwordnet['POS tagged'].apply(sentiwordnetanalysis)\n",
    "df_sentiwordnet = df_sentiwordnet[df_sentiwordnet.label != 1]\n",
    "df_sentiwordnet.label = df_sentiwordnet.label.map({0: 0, 2: 1})\n",
    "df_sentiwordnet.results = df_sentiwordnet.results.replace({'Negative': 0, 'Positive': 1})"
   ]
  },
  {
   "cell_type": "code",
   "execution_count": null,
   "metadata": {},
   "outputs": [],
   "source": [
    "df_sentiwordnet.head(15)"
   ]
  },
  {
   "cell_type": "code",
   "execution_count": null,
   "metadata": {},
   "outputs": [],
   "source": [
    "#Calculate accuracy score\n",
    "print('accuracy score:', accuracy_score(df_sentiwordnet.label, df_sentiwordnet.results))\n",
    "print('precision, recall, f1 score:', precision_recall_fscore_support(df_sentiwordnet.label, df_sentiwordnet.results, average='weighted'))\n",
    "print(confusion_matrix(df_sentiwordnet.label, df_sentiwordnet.results))"
   ]
  },
  {
   "cell_type": "code",
   "execution_count": null,
   "metadata": {},
   "outputs": [],
   "source": [
    "swn_counts= df_sentiwordnet['SWN analysis'].value_counts()\n",
    "plt.figure(figsize=(10, 7))\n",
    "plt.pie(swn_counts.values, labels = swn_counts.index, explode = (0.1, 0), autopct='%1.1f%%', shadow=False)"
   ]
  },
  {
   "cell_type": "code",
   "execution_count": null,
   "metadata": {},
   "outputs": [],
   "source": [
    "swn_counts.value_counts()"
   ]
  },
  {
   "cell_type": "markdown",
   "metadata": {},
   "source": [
    "# VADER Sentiment"
   ]
  },
  {
   "cell_type": "code",
   "execution_count": 9,
   "metadata": {},
   "outputs": [],
   "source": [
    "analyzer = SentimentIntensityAnalyzer()\n",
    "# function to calculate father sentiment\n",
    "def father_sentiment_analysis(review):\n",
    "    vs = analyzer.polarity_scores(review)\n",
    "    return vs['compound']\n",
    "\n",
    "df_vader['Father Sentiment'] = df_vader['text'].apply(father_sentiment_analysis)\n",
    "# function to analyse\n",
    "def vader_analysis(compound):\n",
    "    if compound > 0:\n",
    "        return 'Positive'\n",
    "    else:\n",
    "        return 'Negative'\n",
    "    \n",
    "df_vader = df_vader.dropna()\n",
    "df_vader['results'] = df_vader['Father Sentiment'].apply(vader_analysis)\n",
    "df_vader = df_vader[df_vader.label != 1]\n",
    "df_vader.label = df_vader.label.map({0: 0, 2: 1})\n",
    "df_vader.results = df_vader.results.replace({'Negative': 0, 'Positive': 1})"
   ]
  },
  {
   "cell_type": "code",
   "execution_count": 10,
   "metadata": {},
   "outputs": [
    {
     "name": "stdout",
     "output_type": "stream",
     "text": [
      "accuracy score: 0.5849056603773585\n",
      "precision, recall, f1 score: (0.7393892029595949, 0.5849056603773585, 0.5957473089479441, None)\n",
      "[[229 255]\n",
      " [ 31 174]]\n"
     ]
    }
   ],
   "source": [
    "#Calculate accuracy score\n",
    "print('accuracy score:', accuracy_score(df_vader.label, df_vader.results))\n",
    "print('precision, recall, f1 score:', precision_recall_fscore_support(df_vader.label, df_vader.results, average='weighted'))\n",
    "print(confusion_matrix(df_vader.label, df_vader.results))\n"
   ]
  },
  {
   "cell_type": "code",
   "execution_count": null,
   "metadata": {},
   "outputs": [],
   "source": [
    "df_sentiwordnet.results.value_counts()"
   ]
  },
  {
   "cell_type": "code",
   "execution_count": null,
   "metadata": {},
   "outputs": [],
   "source": [
    "from nltk.corpus import wordnet\n",
    "syn = wordnet.synsets('infected')[0]\n",
    "  \n",
    "print (\"Synset name :  \", syn.name())\n",
    "  \n",
    "# Defining the word\n",
    "print (\"\\nSynset meaning : \", syn.definition())\n",
    "  \n",
    "# list of phrases that use the word in context\n",
    "print (\"\\nSynset example : \", syn.examples())\n"
   ]
  },
  {
   "cell_type": "code",
   "execution_count": null,
   "metadata": {},
   "outputs": [],
   "source": []
  }
 ],
 "metadata": {
  "kernelspec": {
   "display_name": "Python 3",
   "language": "python",
   "name": "python3"
  },
  "language_info": {
   "codemirror_mode": {
    "name": "ipython",
    "version": 3
   },
   "file_extension": ".py",
   "mimetype": "text/x-python",
   "name": "python",
   "nbconvert_exporter": "python",
   "pygments_lexer": "ipython3",
   "version": "3.9.1"
  }
 },
 "nbformat": 4,
 "nbformat_minor": 4
}
